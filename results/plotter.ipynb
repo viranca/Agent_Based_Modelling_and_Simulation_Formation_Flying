{
 "cells": [
  {
   "cell_type": "code",
   "execution_count": 1,
   "metadata": {},
   "outputs": [],
   "source": [
    "\n",
    "\n",
    "import pandas as pd\n",
    "\n",
    "\n"
   ]
  },
  {
   "cell_type": "code",
   "execution_count": 2,
   "metadata": {},
   "outputs": [],
   "source": [
    "#file1 = pd.read_csv(\"results_greedy_200km_join0_airport3.txt\")\n",
    "file2 = pd.read_csv(\"results_greedy_200km_join2_airport3_maxsteps4000.txt\")\n",
    "file3 = pd.read_csv(\"results_cnp_200km_join2_airport3_maxsteps4000.txt\")\n",
    "\n",
    "\n"
   ]
  },
  {
   "cell_type": "code",
   "execution_count": 3,
   "metadata": {},
   "outputs": [
    {
     "name": "stdout",
     "output_type": "stream",
     "text": [
      "--------------------------------------------------------------------\n",
      "file2\n",
      "        Parameter/indicator    Mean Value  Standard Deviation  StD Percentage\n",
      "0       communication_range    200.000000            0.000000        0.000000\n",
      "1       Av Savings Alliance    657.495588           26.728677        4.065225\n",
      "2    Av Savings Contractors    697.540802           24.651596        3.534072\n",
      "3       Av Savings Managers    645.866495           27.207899        4.212620\n",
      "4   Av Savings non-Alliance    690.305797           26.582990        3.850901\n",
      "5           Total Fuel Used  34057.567200         1038.774009        3.050053\n",
      "6                     steps   3515.200000          388.023013       11.038433\n",
      "7        negotiation_method      0.000000            0.000000             NaN\n",
      "8            joining_method      2.000000            0.000000        0.000000\n",
      "9                 n_manager     40.000000            0.000000        0.000000\n",
      "10       max_bid_contractor      0.500000            0.000000        0.000000\n",
      "11       min_bid_auctioneer      0.500000            0.000000        0.000000\n",
      "12             n_iterations    100.000000            0.000000        0.000000\n",
      "13        mean_arrival_time   2498.571196           84.313262        3.374459\n",
      "14         std_arrival_time    183.650369           27.541419       14.996659\n",
      "--------------------------------------------------------------------\n",
      "file3\n",
      "        Parameter/indicator    Mean Value  Standard Deviation  StD Percentage\n",
      "0       communication_range    200.000000            0.000000        0.000000\n",
      "1       Av Savings Alliance    630.089874           60.059591        9.531909\n",
      "2    Av Savings Contractors    638.704671           44.883865        7.027327\n",
      "3       Av Savings Managers    639.988774           40.752288        6.367657\n",
      "4   Av Savings non-Alliance    645.455924           39.774883        6.162293\n",
      "5           Total Fuel Used  34583.427600         1296.367259        3.748522\n",
      "6                     steps   3946.600000          162.291482        4.112185\n",
      "7        negotiation_method      1.000000            0.000000        0.000000\n",
      "8            joining_method      2.000000            0.000000        0.000000\n",
      "9                 n_manager     40.000000            0.000000        0.000000\n",
      "10       max_bid_contractor      0.500000            0.000000        0.000000\n",
      "11       min_bid_auctioneer      0.500000            0.000000        0.000000\n",
      "12             n_iterations    100.000000            0.000000        0.000000\n",
      "13        mean_arrival_time   2664.501341          121.425321        4.557150\n",
      "14         std_arrival_time    201.988926           45.364049       22.458681\n"
     ]
    }
   ],
   "source": [
    "\n",
    "# print(\"file1\")\n",
    "# print(file1)\n",
    "\n",
    "print(\"--------------------------------------------------------------------\")\n",
    "\n",
    "print(\"file2\")\n",
    "print(file2)\n",
    "print(\"--------------------------------------------------------------------\")\n",
    "\n",
    "print(\"file3\")\n",
    "print(file3)"
   ]
  },
  {
   "cell_type": "code",
   "execution_count": null,
   "metadata": {},
   "outputs": [],
   "source": []
  },
  {
   "cell_type": "code",
   "execution_count": null,
   "metadata": {},
   "outputs": [],
   "source": []
  },
  {
   "cell_type": "code",
   "execution_count": null,
   "metadata": {},
   "outputs": [],
   "source": []
  }
 ],
 "metadata": {
  "kernelspec": {
   "display_name": "Python 3",
   "language": "python",
   "name": "python3"
  },
  "language_info": {
   "codemirror_mode": {
    "name": "ipython",
    "version": 3
   },
   "file_extension": ".py",
   "mimetype": "text/x-python",
   "name": "python",
   "nbconvert_exporter": "python",
   "pygments_lexer": "ipython3",
   "version": "3.8.5"
  }
 },
 "nbformat": 4,
 "nbformat_minor": 4
}
